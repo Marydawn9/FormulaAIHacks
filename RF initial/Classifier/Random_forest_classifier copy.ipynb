{
 "cells": [
  {
   "cell_type": "code",
   "execution_count": null,
   "id": "a20ae98b",
   "metadata": {},
   "outputs": [],
   "source": [
    "x = df_subset.drop(['M_WEATHER', 'TIMESTAMP'], axis=1).values\n",
    "min_max_scaler = preprocessing.MinMaxScaler()\n",
    "x_scaled = min_max_scaler.fit_transform(x)\n",
    "\n",
    "df_norm = pd.DataFrame(x_scaled, columns=df_subset.drop(['M_WEATHER', 'TIMESTAMP'], axis=1).columns.tolist())\n",
    "df_norm['TIMESTAMP'] = pd.to_datetime(df_subset['TIMESTAMP'], unit='s', dayfirst=True).reset_index(drop=True)\n",
    "df_norm['M_WEATHER'] = df_subset['M_WEATHER'].reset_index(drop=True)\n",
    "df_norm = df_norm.set_index('TIMESTAMP')\n",
    "df_norm"
   ]
  },
  {
   "cell_type": "code",
   "execution_count": null,
   "id": "b755ac0a",
   "metadata": {},
   "outputs": [],
   "source": [
    "df_norm['M_WEATHER'] = df_norm['M_WEATHER'].apply(lambda x: str(x))\n",
    "df_norm"
   ]
  },
  {
   "cell_type": "code",
   "execution_count": null,
   "id": "e067bc6e",
   "metadata": {},
   "outputs": [],
   "source": [
    "df_norm.dropna(inplace=True)"
   ]
  },
  {
   "cell_type": "code",
   "execution_count": null,
   "id": "7877a13a",
   "metadata": {},
   "outputs": [],
   "source": [
    "df = df_norm\n",
    "Y = df['M_WEATHER']\n",
    "X = df.drop(columns=['M_WEATHER'],inplace=False)"
   ]
  },
  {
   "cell_type": "code",
   "execution_count": null,
   "id": "af3a3d2e",
   "metadata": {},
   "outputs": [],
   "source": [
    "X, X_test, y, y_test = train_test_split(X,Y,test_size = 0.2,train_size = 0.8,random_state = 42)\n",
    "X_train, X_cv, y_train, y_cv = train_test_split(X,y,test_size = 0.25,train_size = 0.75,random_state = 42)"
   ]
  },
  {
   "cell_type": "code",
   "execution_count": null,
   "id": "69100de4",
   "metadata": {},
   "outputs": [],
   "source": [
    "model = RandomForestClassifier(class_weight = 'balanced')\n",
    "model.fit(X_train,y_train)"
   ]
  },
  {
   "cell_type": "code",
   "execution_count": null,
   "id": "14abd9c0",
   "metadata": {},
   "outputs": [],
   "source": [
    "cv = RepeatedStratifiedKFold(n_splits=10, n_repeats=3, random_state=1)\n",
    "n_scores = cross_val_score(model, X_cv, y_cv, scoring='accuracy', cv=cv, n_jobs=-1, error_score='raise')\n",
    "# report performance\n",
    "print('Accuracy: %.3f (%.3f)' % (mean(n_scores), std(n_scores)))"
   ]
  },
  {
   "cell_type": "code",
   "execution_count": null,
   "id": "c18f686a",
   "metadata": {},
   "outputs": [],
   "source": [
    "predictions = model.predict(X_test)\n",
    "accuracy = accuracy_score(y_test,predictions)\n",
    "print(accuracy)"
   ]
  },
  {
   "cell_type": "code",
   "execution_count": null,
   "id": "c7dd9d8f",
   "metadata": {},
   "outputs": [],
   "source": [
    "row = X.iloc[1].to_numpy().reshape(1,-1)\n",
    "yhat = model.predict(row)\n",
    "print('predicted weather is',yhat)"
   ]
  },
  {
   "cell_type": "code",
   "execution_count": null,
   "id": "c51c233b",
   "metadata": {},
   "outputs": [],
   "source": [
    "filename = \"finalized_randomforest_classifier_model.sav\"\n",
    "pickle.dump(model, (open(filename, \"wb\")))"
   ]
  }
 ],
 "metadata": {
  "kernelspec": {
   "display_name": "Python 3",
   "language": "python",
   "name": "python3"
  },
  "language_info": {
   "codemirror_mode": {
    "name": "ipython",
    "version": 3
   },
   "file_extension": ".py",
   "mimetype": "text/x-python",
   "name": "python",
   "nbconvert_exporter": "python",
   "pygments_lexer": "ipython3",
   "version": "3.8.2"
  }
 },
 "nbformat": 4,
 "nbformat_minor": 5
}
