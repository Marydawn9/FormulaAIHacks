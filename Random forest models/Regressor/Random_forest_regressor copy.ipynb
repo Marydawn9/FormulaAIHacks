{
 "cells": [
  {
   "cell_type": "code",
   "execution_count": null,
   "id": "080e99c8",
   "metadata": {},
   "outputs": [],
   "source": [
    "df_subset = df[['TIMESTAMP', 'M_AIR_TEMPERATURE','M_TIME_OFFSET'] + df.columns.tolist()[31:39]]\n",
    "'rows with na:', df_subset.shape[0] - df_subset.dropna().shape[0]"
   ]
  },
  {
   "cell_type": "code",
   "execution_count": null,
   "id": "a33a55ea",
   "metadata": {},
   "outputs": [],
   "source": [
    "from sklearn import preprocessing\n",
    "\n",
    "x = df_subset.drop(['M_WEATHER', 'TIMESTAMP'], axis=1).values\n",
    "min_max_scaler = preprocessing.MinMaxScaler()\n",
    "x_scaled = min_max_scaler.fit_transform(x)\n",
    "\n",
    "df_norm = pd.DataFrame(x_scaled, columns=df_subset.drop(['M_WEATHER', 'TIMESTAMP'], axis=1).columns.tolist())\n",
    "df_norm['TIMESTAMP'] = pd.to_datetime(df_subset['TIMESTAMP'], unit='s', dayfirst=True).reset_index(drop=True)\n",
    "df_norm['M_WEATHER'] = df_subset['M_WEATHER'].reset_index(drop=True)\n",
    "df_norm = df_norm.set_index('TIMESTAMP')\n",
    "df_norm"
   ]
  },
  {
   "cell_type": "code",
   "execution_count": null,
   "id": "388c6469",
   "metadata": {},
   "outputs": [],
   "source": [
    "df_norm['M_WEATHER'] = df_norm['M_WEATHER'].apply(lambda x: str(x))\n",
    "df_norm"
   ]
  },
  {
   "cell_type": "code",
   "execution_count": null,
   "id": "1df3e7c2",
   "metadata": {},
   "outputs": [],
   "source": [
    "df_norm.dropna(inplace=True)"
   ]
  },
  {
   "cell_type": "code",
   "execution_count": null,
   "id": "be081a50",
   "metadata": {},
   "outputs": [],
   "source": [
    "df = df_norm\n",
    "Y = df['M_RAIN_PERCENTAGE']\n",
    "X = df.drop(columns=['M_RAIN_PERCENTAGE'],inplace=False)"
   ]
  },
  {
   "cell_type": "code",
   "execution_count": null,
   "id": "ed372a75",
   "metadata": {},
   "outputs": [],
   "source": [
    "X, X_test, y, y_test = train_test_split(X,Y,test_size = 0.2,train_size = 0.8,random_state = 42)\n",
    "X_train, X_cv, y_train, y_cv = train_test_split(X,y,test_size = 0.25,train_size = 0.75,random_state = 42)"
   ]
  },
  {
   "cell_type": "code",
   "execution_count": null,
   "id": "e3cd6505",
   "metadata": {},
   "outputs": [],
   "source": [
    "model = RandomForestRegressor(n_estimators = 10, random_state = 0)\n",
    "model.fit(X_train,y_train)"
   ]
  },
  {
   "cell_type": "code",
   "execution_count": null,
   "id": "15c31d6f",
   "metadata": {},
   "outputs": [],
   "source": [
    "cv = KFold(n_splits=10, random_state=1, shuffle=True)\n",
    "n_scores = cross_val_score(model, X_cv, y_cv, scoring='neg_mean_absolute_error', cv=cv, n_jobs=-1, error_score='raise')\n",
    "# report performance\n",
    "print('MAE: %.3f (%.3f)' % (mean(n_scores), std(n_scores)))"
   ]
  },
  {
   "cell_type": "code",
   "execution_count": null,
   "id": "be8d3380",
   "metadata": {},
   "outputs": [],
   "source": [
    "predictions = model.predict(X_test)\n",
    "MSE = mean_squared_error(y_test,predictions)\n",
    "print(MSE)"
   ]
  },
  {
   "cell_type": "code",
   "execution_count": null,
   "id": "4e4ed551",
   "metadata": {},
   "outputs": [],
   "source": [
    "row = X.iloc[1].to_numpy().reshape(1,-1)\n",
    "yhat = model.predict(row)\n",
    "print('predicted rain probability is',yhat)"
   ]
  },
  {
   "cell_type": "code",
   "execution_count": null,
   "id": "89068772",
   "metadata": {},
   "outputs": [],
   "source": [
    "filename = \"finalized_randomforest_regressor_model.sav\"\n",
    "pickle.dump(model, (open(filename, \"wb\")))"
   ]
  }
 ],
 "metadata": {
  "kernelspec": {
   "display_name": "Python 3",
   "language": "python",
   "name": "python3"
  },
  "language_info": {
   "codemirror_mode": {
    "name": "ipython",
    "version": 3
   },
   "file_extension": ".py",
   "mimetype": "text/x-python",
   "name": "python",
   "nbconvert_exporter": "python",
   "pygments_lexer": "ipython3",
   "version": "3.8.2"
  }
 },
 "nbformat": 4,
 "nbformat_minor": 5
}
