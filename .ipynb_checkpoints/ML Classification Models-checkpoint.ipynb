{
 "cells": [
  {
   "cell_type": "code",
   "execution_count": 1,
   "metadata": {},
   "outputs": [],
   "source": [
    "import pandas as pd\n",
    "import numpy as np\n",
    "from sklearn.model_selection import train_test_split\n",
    "from sklearn.preprocessing import LabelEncoder\n",
    "\n",
    "from sklearn.ensemble import RandomForestClassifier\n",
    "from sklearn.multiclass import OneVsRestClassifier\n",
    "from sklearn.neighbors import KNeighborsClassifier\n",
    "from sklearn.svm import SVC\n",
    "from sklearn.naive_bayes import GaussianNB\n",
    "from sklearn.ensemble import StackingClassifier\n",
    "from sklearn.linear_model import LogisticRegression\n",
    "\n",
    "from sklearn.model_selection import cross_val_score\n",
    "from sklearn.model_selection import RepeatedStratifiedKFold"
   ]
  },
  {
   "cell_type": "code",
   "execution_count": 2,
   "metadata": {},
   "outputs": [],
   "source": [
    "df = pd.read_csv('cleaned_data.csv')"
   ]
  },
  {
   "cell_type": "code",
   "execution_count": 3,
   "metadata": {},
   "outputs": [
    {
     "name": "stderr",
     "output_type": "stream",
     "text": [
      "<ipython-input-3-af88edaef489>:1: FutureWarning: In a future version of pandas all arguments of DataFrame.drop except for the argument 'labels' will be keyword-only.\n",
      "  df = df.drop(['TIMESTAMP', 'M_AI_DIFFICULTY'], 1)\n"
     ]
    },
    {
     "data": {
      "text/html": [
       "<div>\n",
       "<style scoped>\n",
       "    .dataframe tbody tr th:only-of-type {\n",
       "        vertical-align: middle;\n",
       "    }\n",
       "\n",
       "    .dataframe tbody tr th {\n",
       "        vertical-align: top;\n",
       "    }\n",
       "\n",
       "    .dataframe thead th {\n",
       "        text-align: right;\n",
       "    }\n",
       "</style>\n",
       "<table border=\"1\" class=\"dataframe\">\n",
       "  <thead>\n",
       "    <tr style=\"text-align: right;\">\n",
       "      <th></th>\n",
       "      <th>M_AIR_TEMPERATURE</th>\n",
       "      <th>M_TRACK_TEMPERATURE_CHANGE</th>\n",
       "      <th>M_WEATHER_FORECAST_SAMPLES_M_AIR_TEMPERATURE</th>\n",
       "      <th>M_AIR_TEMPERATURE_CHANGE</th>\n",
       "      <th>M_RAIN_PERCENTAGE</th>\n",
       "      <th>M_WEATHER</th>\n",
       "    </tr>\n",
       "  </thead>\n",
       "  <tbody>\n",
       "    <tr>\n",
       "      <th>0</th>\n",
       "      <td>0.666667</td>\n",
       "      <td>1.0</td>\n",
       "      <td>0.666667</td>\n",
       "      <td>1.0</td>\n",
       "      <td>0.000000</td>\n",
       "      <td>0</td>\n",
       "    </tr>\n",
       "    <tr>\n",
       "      <th>1</th>\n",
       "      <td>0.666667</td>\n",
       "      <td>1.0</td>\n",
       "      <td>0.666667</td>\n",
       "      <td>1.0</td>\n",
       "      <td>0.000000</td>\n",
       "      <td>0</td>\n",
       "    </tr>\n",
       "    <tr>\n",
       "      <th>2</th>\n",
       "      <td>0.666667</td>\n",
       "      <td>1.0</td>\n",
       "      <td>0.666667</td>\n",
       "      <td>1.0</td>\n",
       "      <td>0.010870</td>\n",
       "      <td>0</td>\n",
       "    </tr>\n",
       "    <tr>\n",
       "      <th>3</th>\n",
       "      <td>0.666667</td>\n",
       "      <td>0.5</td>\n",
       "      <td>0.583333</td>\n",
       "      <td>0.5</td>\n",
       "      <td>0.043478</td>\n",
       "      <td>0</td>\n",
       "    </tr>\n",
       "    <tr>\n",
       "      <th>4</th>\n",
       "      <td>0.666667</td>\n",
       "      <td>1.0</td>\n",
       "      <td>0.583333</td>\n",
       "      <td>1.0</td>\n",
       "      <td>0.043478</td>\n",
       "      <td>0</td>\n",
       "    </tr>\n",
       "  </tbody>\n",
       "</table>\n",
       "</div>"
      ],
      "text/plain": [
       "   M_AIR_TEMPERATURE  M_TRACK_TEMPERATURE_CHANGE  \\\n",
       "0           0.666667                         1.0   \n",
       "1           0.666667                         1.0   \n",
       "2           0.666667                         1.0   \n",
       "3           0.666667                         0.5   \n",
       "4           0.666667                         1.0   \n",
       "\n",
       "   M_WEATHER_FORECAST_SAMPLES_M_AIR_TEMPERATURE  M_AIR_TEMPERATURE_CHANGE  \\\n",
       "0                                      0.666667                       1.0   \n",
       "1                                      0.666667                       1.0   \n",
       "2                                      0.666667                       1.0   \n",
       "3                                      0.583333                       0.5   \n",
       "4                                      0.583333                       1.0   \n",
       "\n",
       "   M_RAIN_PERCENTAGE  M_WEATHER  \n",
       "0           0.000000          0  \n",
       "1           0.000000          0  \n",
       "2           0.010870          0  \n",
       "3           0.043478          0  \n",
       "4           0.043478          0  "
      ]
     },
     "execution_count": 3,
     "metadata": {},
     "output_type": "execute_result"
    }
   ],
   "source": [
    "df = df.drop(['TIMESTAMP', 'M_AI_DIFFICULTY'], 1)\n",
    "df.head()"
   ]
  },
  {
   "cell_type": "code",
   "execution_count": 4,
   "metadata": {},
   "outputs": [],
   "source": [
    "y = LabelEncoder().fit_transform(df.iloc[:, -1])\n",
    "col = [1,3]\n",
    "for i in col:\n",
    "    df.iloc[:,[i]] = df.iloc[:,[i]].astype('int64')\n",
    "X = df.iloc[:, :-1]"
   ]
  },
  {
   "cell_type": "code",
   "execution_count": 5,
   "metadata": {},
   "outputs": [
    {
     "name": "stdout",
     "output_type": "stream",
     "text": [
      "[0.79340792 0.79334585 0.79362518 0.79216325 0.79464618 0.79258225\n",
      " 0.79492551 0.79146493 0.79124767 0.79332713 0.79331482 0.79376484\n",
      " 0.79222855 0.79408752 0.79241155 0.78980447 0.79470826 0.79244258\n",
      " 0.79224084 0.79236499 0.79272513 0.79395106 0.79345448 0.79196151\n",
      " 0.79396338 0.79182185 0.79236499 0.79219429 0.79301676 0.79366853]\n",
      "Baseline scores \n",
      " mean accuracy: 0.793 with a 0.001 standard deviation in scores \n"
     ]
    }
   ],
   "source": [
    "rf = OneVsRestClassifier(estimator = GaussianNB())\n",
    "\n",
    "cv = RepeatedStratifiedKFold(n_splits=10, n_repeats=3, random_state=20)\n",
    "\n",
    "n_scores = cross_val_score(rf, X, y, scoring='accuracy', cv=cv, error_score='raise')\n",
    "\n",
    "print(n_scores)\n",
    "print('Baseline scores \\n mean accuracy: %.3f with a %.3f standard deviation in scores ' % (np.mean(n_scores), np.std(n_scores)))"
   ]
  },
  {
   "cell_type": "code",
   "execution_count": 6,
   "metadata": {},
   "outputs": [],
   "source": [
    "def create_stacking_models():\n",
    "    base_models = list()\n",
    "    base_models.append(('KNNC', KNeighborsClassifier(n_neighbors = len(np.unique(y))\n",
    "                                                     , weights = 'distance')\n",
    "                       ))\n",
    "    base_models.append(('SVC', SVC(kernel = 'linear'\n",
    "                                   , class_weight = 'balanced'\n",
    "                                  , break_ties = True)\n",
    "                       ))    \n",
    "    base_models.append(('GNB', GaussianNB()))\n",
    "    base_models.append(('RF', RandomForestClassifier(n_estimators= 200, \n",
    "                                                   oob_score = True, \n",
    "                                                   class_weight = \"balanced\", \n",
    "                                                   random_state = 20, \n",
    "                                                   ccp_alpha = 0.1)\n",
    "                       ))\n",
    "\n",
    "    \n",
    "    meta_model = LogisticRegression()\n",
    "    final_model = StackingClassifier(estimators = base_models, ##Base estimators which will be stacked together\n",
    "                                     final_estimator = meta_model,\n",
    "                                     cv = 5\n",
    "                                    )\n",
    "    return final_model\n",
    "\n",
    "def models_all():\n",
    "    all_models = dict()\n",
    "    all_models['KNNC']= KNeighborsClassifier(n_neighbors = len(np.unique(y))\n",
    "                                             , weights = 'distance')\n",
    "    all_models['SVC']= SVC(kernel = 'linear'\n",
    "                           , class_weight = 'balanced'\n",
    "                          , break_ties = True\n",
    "                          )\n",
    "    all_models['RF']= RandomForestClassifier(n_estimators= 200, \n",
    "                                                   oob_score = True, \n",
    "                                                   class_weight = \"balanced\", \n",
    "                                                   random_state = 20, \n",
    "                                                   ccp_alpha = 0.15)\n",
    "    all_models['GNB'] = GaussianNB()\n",
    "    all_models['Stacking'] = create_stacking_models()\n",
    "    return all_models\n",
    "\n",
    "def evaluate_model(model):\n",
    "    cv = RepeatedStratifiedKFold(n_splits=10, n_repeats=3, random_state=42)\n",
    "    scores = cross_val_score(model, X, y, scoring='accuracy', cv=cv, error_score='raise')\n",
    "    return scores"
   ]
  },
  {
   "cell_type": "code",
   "execution_count": null,
   "metadata": {},
   "outputs": [],
   "source": [
    "model_results = list()\n",
    "models = models_all()\n",
    "names = list()\n",
    " \n",
    "for name, model in models.items():\n",
    "    scores = evaluate_model(model)\n",
    "    model_results.append(scores)\n",
    "    names.append(name)\n",
    "\n",
    "    print('>%s %.3f (%.3f) \\n' % (name, np.mean(scores), np.std(scores)))"
   ]
  },
  {
   "cell_type": "code",
   "execution_count": null,
   "metadata": {},
   "outputs": [],
   "source": [
    "plt.figure(figsize=(15,5))\n",
    "fig = sns.boxplot(x=names, y=model_results, showmeans=True)\n",
    "# plt.xlabel(list(names))\n",
    "# plt.ylabel(list(model_results))\n",
    "plt.title(\"Model Comparisions\")\n",
    "plt.show(fig)"
   ]
  }
 ],
 "metadata": {
  "kernelspec": {
   "display_name": "Python 3",
   "language": "python",
   "name": "python3"
  },
  "language_info": {
   "codemirror_mode": {
    "name": "ipython",
    "version": 3
   },
   "file_extension": ".py",
   "mimetype": "text/x-python",
   "name": "python",
   "nbconvert_exporter": "python",
   "pygments_lexer": "ipython3",
   "version": "3.8.3"
  }
 },
 "nbformat": 4,
 "nbformat_minor": 5
}
