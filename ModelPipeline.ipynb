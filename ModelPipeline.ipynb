{
 "cells": [
  {
   "cell_type": "markdown",
   "id": "4272043c",
   "metadata": {},
   "source": [
    "# Import Libraries"
   ]
  },
  {
   "cell_type": "code",
   "execution_count": 37,
   "id": "db76d951",
   "metadata": {},
   "outputs": [],
   "source": [
    "import os\n",
    "import pandas as pd\n",
    "import numpy as np\n",
    "import matplotlib.pyplot as plt\n",
    "import pickle\n",
    "from numpy import std, \n",
    "from numpy import mean\n",
    "from sklearn import preprocessing\n",
    "from sklearn.ensemble import RandomForestRegressor\n",
    "from sklearn.ensemble import RandomForestClassifier\n",
    "from sklearn.model_selection import cross_val_score\n",
    "from sklearn.model_selection import train_test_split\n",
    "from sklearn.model_selection import RepeatedStratifiedKFold\n",
    "from sklearn.model_selection import KFold\n",
    "from sklearn.metrics import mean_squared_error\n",
    "from sklearn.metrics import accuracy_score"
   ]
  },
  {
   "cell_type": "markdown",
   "id": "354c54fa",
   "metadata": {},
   "source": [
    "# Clean Data"
   ]
  },
  {
   "cell_type": "code",
   "execution_count": 38,
   "id": "6c8a9ca1",
   "metadata": {},
   "outputs": [],
   "source": [
    "# clean_data = clean_data(\"____add relative path____\")"
   ]
  },
  {
   "cell_type": "markdown",
   "id": "187aeaa2",
   "metadata": {},
   "source": [
    "# Train Classifier Model"
   ]
  },
  {
   "cell_type": "code",
   "execution_count": null,
   "id": "f88aed1a",
   "metadata": {},
   "outputs": [],
   "source": []
  },
  {
   "cell_type": "markdown",
   "id": "07a798f6",
   "metadata": {},
   "source": [
    "# Train Regressor Model"
   ]
  },
  {
   "cell_type": "code",
   "execution_count": null,
   "id": "92bcd5cb",
   "metadata": {},
   "outputs": [],
   "source": []
  },
  {
   "cell_type": "code",
   "execution_count": 39,
   "id": "c39d755e",
   "metadata": {},
   "outputs": [],
   "source": [
    "# time_offset column has the time periods that we need (5, 10, 15, 30, 60)\n",
    "# We are forced to drop na because the time offset is where the na is\n",
    "# compare the two dataframes (the old one with na dropped is the same as the new one)\n",
    "# Do we scale rain_percentage? It's a target\n",
    "# There are time offsets of 90 and 120, drop those?"
   ]
  },
  {
   "cell_type": "code",
   "execution_count": 40,
   "id": "b9bb5033",
   "metadata": {},
   "outputs": [],
   "source": [
    "def clean_data(unclean_df, dropna=True):\n",
    "    \"\"\"\n",
    "    Clean and preprocess the data for the models\n",
    "\n",
    "    Parameters:\n",
    "    unclean_df (pandas DataFrame): the dataset that hasn't been prepared for model ingestion\n",
    "    dropna (boolean): choose whether to drop the rows with missing values\n",
    "\n",
    "    Returns:\n",
    "    pandas dataframe: cleaned dataset\n",
    "\n",
    "    \"\"\"\n",
    "    unclean_columns = unclean_df.columns.tolist()\n",
    "    \n",
    "    unclean_df = unclean_df[\n",
    "        (unclean_df['M_NUM_WEATHER_FORECAST_SAMPLES'] != 0) & \n",
    "        (unclean_df['M_WEATHER_FORECAST_SAMPLES_M_SESSION_TYPE'] != 0)\n",
    "    ]\n",
    "    \n",
    "    unclean_df = unclean_df[\n",
    "        ['TIMESTAMP', 'M_AIR_TEMPERATURE', 'M_FORECAST_ACCURACY'] + \n",
    "        unclean_columns[\n",
    "            unclean_columns.index('M_WEATHER_FORECAST_SAMPLES_M_WEATHER'):unclean_columns.index('M_AI_DIFFICULTY') + 1\n",
    "            ]\n",
    "    ]\n",
    "\n",
    "    x = unclean_df.drop(['M_WEATHER', 'TIMESTAMP'], axis=1).values\n",
    "    min_max_scaler = preprocessing.MinMaxScaler()\n",
    "    x_scaled = min_max_scaler.fit_transform(x)\n",
    "\n",
    "    df_norm = pd.DataFrame(x_scaled, columns=unclean_df.drop(['M_WEATHER', 'TIMESTAMP'], axis=1).columns.tolist())\n",
    "    df_norm['TIMESTAMP'] = pd.to_datetime(unclean_df['TIMESTAMP'], unit='s', dayfirst=True).reset_index(drop=True)\n",
    "    df_norm['M_WEATHER'] = unclean_df['M_WEATHER'].reset_index(drop=True)\n",
    "    df_norm = df_norm.set_index('TIMESTAMP')\n",
    "\n",
    "    df_norm['M_WEATHER'] = df_norm['M_WEATHER'].apply(lambda x: str(x))\n",
    "    \n",
    "    if dropna:\n",
    "        return df_norm.dropna()\n",
    "    return df_norm"
   ]
  },
  {
   "cell_type": "code",
   "execution_count": 41,
   "id": "41dd545b",
   "metadata": {},
   "outputs": [],
   "source": [
    "def weather_classifier(data):\n",
    "    \"\"\"\n",
    "    Load the trained classifier model\n",
    "\n",
    "    Parameters:\n",
    "    None\n",
    "\n",
    "    Returns:\n",
    "    pickle file of the model??\n",
    "\n",
    "    \"\"\"\n",
    "    df = data\n",
    "    df = df.dropna()\n",
    "    Y = df['M_WEATHER']\n",
    "    X = df.drop(columns=['M_WEATHER'])\n",
    "\n",
    "    X, X_test, y, y_test = train_test_split(X, Y, test_size=0.2, train_size=0.8, random_state=42)\n",
    "    X_train, X_cv, y_train, y_cv = train_test_split(X, y, test_size=0.25, train_size=0.75, random_state=42)\n",
    "\n",
    "    model = RandomForestClassifier(class_weight='balanced')\n",
    "    model.fit(X_train,y_train)\n",
    "\n",
    "    cv = RepeatedStratifiedKFold(n_splits=10, n_repeats=3, random_state=1)\n",
    "    n_scores = cross_val_score(model, X_cv, y_cv, scoring='accuracy', cv=cv, n_jobs=-1, error_score='raise')\n",
    "\n",
    "    # report performance\n",
    "    print('Accuracy: %.3f (%.3f)' % (mean(n_scores), std(n_scores)))\n",
    "\n",
    "    predictions = model.predict(X_test)\n",
    "    accuracy = accuracy_score(y_test, predictions)\n",
    "    print(accuracy)\n",
    "\n",
    "    row = X.iloc[1].to_numpy().reshape(1,-1)\n",
    "    yhat = model.predict(row)\n",
    "    print('predicted weather is', yhat)\n"
   ]
  },
  {
   "cell_type": "code",
   "execution_count": 42,
   "id": "87dd2cb9",
   "metadata": {},
   "outputs": [],
   "source": [
    "def rain_predictor(data):\n",
    "    \"\"\"\n",
    "    Load the trained timeseries model\n",
    "\n",
    "    Parameters:\n",
    "    None\n",
    "\n",
    "    Returns:\n",
    "    pickle file of the model??\n",
    "\n",
    "    \"\"\"\n",
    "    # change to relative path\n",
    "    df = data\n",
    "    df = df.dropna()\n",
    "    Y = df['M_RAIN_PERCENTAGE']\n",
    "    X = df.drop(columns=['M_RAIN_PERCENTAGE'])\n",
    "\n",
    "    X, X_test, y, y_test = train_test_split(X, Y, test_size=0.2, train_size=0.8, random_state=42)\n",
    "    X_train, X_cv, y_train, y_cv = train_test_split(X, y, test_size=0.25, train_size=0.75, random_state=42)\n",
    "    \n",
    "    model = RandomForestRegressor(n_estimators=10, random_state=0)\n",
    "    model.fit(X_train, y_train)\n",
    "\n",
    "    cv = KFold(n_splits=10, random_state=1, shuffle=True)\n",
    "    n_scores = cross_val_score(model, X_cv, y_cv, scoring='neg_mean_absolute_error', cv=cv, n_jobs=-1, error_score='raise')\n",
    "    # report performance\n",
    "    print('MAE: %.3f (%.3f)' % (mean(n_scores), std(n_scores)))\n",
    "\n",
    "    predictions = model.predict(X_test)\n",
    "    MSE = mean_squared_error(y_test,predictions)\n",
    "    print(MSE)\n",
    "    \n",
    "    row = X.iloc[1].to_numpy().reshape(1, -1)\n",
    "    yhat = model.predict(row)\n",
    "    print('predicted rain probability is', yhat)"
   ]
  },
  {
   "cell_type": "code",
   "execution_count": 43,
   "id": "dcdd16e3",
   "metadata": {},
   "outputs": [],
   "source": [
    "# def metrics(model):\n",
    "#     \"\"\"\n",
    "#     Display the metrics (MAE or Classification Accuracy) for the model\n",
    "\n",
    "#     Parameters:\n",
    "#     model (pickle file): the model for which to display the metrics\n",
    "\n",
    "#     Returns:\n",
    "#     float: respective model accuracy\n",
    "\n",
    "#     \"\"\"\n",
    "#     if model == 'classifier':\n",
    "#         return classifier_accuracy\n",
    "#     return MAE"
   ]
  },
  {
   "cell_type": "markdown",
   "id": "e91b8fd0",
   "metadata": {},
   "source": [
    "# Test Blocks"
   ]
  },
  {
   "cell_type": "code",
   "execution_count": 44,
   "id": "b6792d07",
   "metadata": {},
   "outputs": [],
   "source": [
    "def main():\n",
    "    clean_df = clean_data(df)\n",
    "\n",
    "    weather_classifier(clean_df)\n",
    "    rain_predictor(clean_df)"
   ]
  },
  {
   "cell_type": "code",
   "execution_count": 45,
   "id": "6d249a5f",
   "metadata": {},
   "outputs": [
    {
     "name": "stderr",
     "output_type": "stream",
     "text": [
      "/Users/home/opt/anaconda3/lib/python3.8/site-packages/IPython/core/interactiveshell.py:3444: DtypeWarning: Columns (21) have mixed types.Specify dtype option on import or set low_memory=False.\n",
      "  exec(code_obj, self.user_global_ns, self.user_ns)\n"
     ]
    },
    {
     "name": "stdout",
     "output_type": "stream",
     "text": [
      "Accuracy: 0.982 (0.001)\n",
      "0.9818126799140292\n",
      "predicted weather is ['0']\n"
     ]
    },
    {
     "name": "stderr",
     "output_type": "stream",
     "text": [
      "/Users/home/opt/anaconda3/lib/python3.8/site-packages/sklearn/base.py:445: UserWarning: X does not have valid feature names, but RandomForestClassifier was fitted with feature names\n",
      "  warnings.warn(\n"
     ]
    }
   ],
   "source": [
    "df = pd.read_csv('weather.csv')\n",
    "main()"
   ]
  }
 ],
 "metadata": {
  "kernelspec": {
   "display_name": "Python 3 (ipykernel)",
   "language": "python",
   "name": "python3"
  },
  "language_info": {
   "codemirror_mode": {
    "name": "ipython",
    "version": 3
   },
   "file_extension": ".py",
   "mimetype": "text/x-python",
   "name": "python",
   "nbconvert_exporter": "python",
   "pygments_lexer": "ipython3",
   "version": "3.8.2"
  }
 },
 "nbformat": 4,
 "nbformat_minor": 5
}
